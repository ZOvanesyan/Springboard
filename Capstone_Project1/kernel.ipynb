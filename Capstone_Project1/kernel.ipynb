{
  "cells": [
    {
      "metadata": {
        "_uuid": "8f2839f25d086af736a60e9eeb907d3b93b6e0e5",
        "_cell_guid": "b1076dfc-b9ad-4769-8c92-a6c4dae69d19",
        "trusted": true
      },
      "cell_type": "code",
      "source": "import numpy as np # linear algebra\nimport pandas as pd # data processing, CSV file I/O (e.g. pd.read_csv)\nimport matplotlib.pyplot as plt\nimport seaborn as sns\n\n# Input data files are available in the \"../input/\" directory.\n# For example, running this (by clicking run or pressing Shift+Enter) will list the files in the input directory\n\nimport os\nprint(os.listdir(\"../input\"))\n\n# Any results you write to the current directory are saved as output.",
      "execution_count": null,
      "outputs": []
    },
    {
      "metadata": {
        "trusted": true,
        "_uuid": "176b3a518e48a10a85036b3aa91d89170abcc9f9"
      },
      "cell_type": "code",
      "source": "data=pd.read_csv('../input/indian_liver_patient.csv')",
      "execution_count": null,
      "outputs": []
    },
    {
      "metadata": {
        "trusted": true,
        "_uuid": "bb127ee168f4dd2ae77a4e5e0f31b495cac57ffc"
      },
      "cell_type": "code",
      "source": "disease, no_disease = data['Dataset'].value_counts()\nmale, female = data['Gender'].value_counts()\n\ninfo=['Diognised with Liver Disease', 'Not Diognised with Liver Disease', 'Male', 'Female']\ncount=[disease, no_disease, male, female]\n\ndf_patient=pd.DataFrame({'Patient Info': info, 'Count': count})",
      "execution_count": null,
      "outputs": []
    },
    {
      "metadata": {
        "trusted": true,
        "_uuid": "69a7aaaf88e5e85df6cab88acfcbaef8a9df6c17"
      },
      "cell_type": "code",
      "source": "data.info()",
      "execution_count": null,
      "outputs": []
    },
    {
      "metadata": {
        "_cell_guid": "79c7e3d0-c299-4dcb-8224-4455121ee9b0",
        "_uuid": "d629ff2d2480ee46fbb7e2d37f6b5fab8052498a",
        "trusted": true
      },
      "cell_type": "code",
      "source": "data.head().T",
      "execution_count": null,
      "outputs": []
    },
    {
      "metadata": {
        "trusted": true,
        "_uuid": "6cf69500a7e565c5ee754e4683cc855e80fc7ff1"
      },
      "cell_type": "code",
      "source": "df_patient",
      "execution_count": null,
      "outputs": []
    },
    {
      "metadata": {
        "trusted": true,
        "_uuid": "c92af6135656c07f6172d82de6b0a346c6493047"
      },
      "cell_type": "code",
      "source": "data.describe().T",
      "execution_count": null,
      "outputs": []
    },
    {
      "metadata": {
        "trusted": true,
        "_uuid": "fb526e5726b9febcd47ea50ab2c7adb67bed7b21"
      },
      "cell_type": "code",
      "source": "data['Albumin_and_Globulin_Ratio'].fillna(data['Albumin_and_Globulin_Ratio'].median(), inplace=True)",
      "execution_count": null,
      "outputs": []
    },
    {
      "metadata": {
        "trusted": true,
        "_uuid": "43ad57349411c61010063f4d4b6995c707ea2676"
      },
      "cell_type": "code",
      "source": "target=data['Dataset']\nsex=pd.get_dummies(data['Gender'])\n#data = data.join(sex)\ndata.insert(loc=0, column='Male', value=sex['Male'])\ndata.insert(loc=0, column='Female', value=sex['Female'])\ndata.drop(['Gender'], axis=1, inplace=True)\n#data.drop(['Dataset'], axis=1, inplace=True)",
      "execution_count": null,
      "outputs": []
    },
    {
      "metadata": {
        "trusted": true,
        "_uuid": "d0de6f8a67d76f2dee57da90fb3626afafdc73b7"
      },
      "cell_type": "code",
      "source": "cols = data.columns\ncols = list(set(cols))\ndel cols[cols.index('Dataset')]\n#data.hist(column=cols, bins=10, figsize=(20,20), xlabelsize = 7, color='green', log=True)\ndel cols[cols.index('Male')]\ndel cols[cols.index('Female')]",
      "execution_count": null,
      "outputs": []
    },
    {
      "metadata": {
        "trusted": true,
        "_uuid": "2878819ef50826b497537f1681c6af6824b99cc8"
      },
      "cell_type": "code",
      "source": "def plot_data(cols, data, plot_type):\n\n    fig = plt.figure(figsize = (25,25))\n    \n    for idx, val in enumerate(cols):\n            \n        plt.subplot(3, 3, idx+1)\n\n        if plot_type == 'hist':\n            disease = 'sns.distplot(data[data[\"Dataset\"] == 1].' + val + ', color=\"blue\", label=\"Liver disease\")'\n            healthy = 'sns.distplot(data[data[\"Dataset\"] == 2].' + val + ', color=\"orange\", label=\"Healthy liver\")'\n            exec (disease)\n            exec (healthy)\n            plt.legend()\n            plt.xlabel(val)\n            plt.ylabel(\"Frequency\")\n          \n        if plot_type == 'cdf':\n            a='plt.hist(data[data[\"Dataset\"] == 1].' + val + ',bins=50,fc=(0,1,0,0.5),label=\"Bening\",normed = True,cumulative = True)'\n            exec (a)\n            sorted_data = exec('np.sort(data[data[\"Dataset\"] == 1].' + val + ')')\n            #sorted_data = exec (sorted_d)\n            y = np.arange(len(sorted_data))/float(len(sorted_data)-1)\n            plt.plot(sorted_data,y,color='red')\n            plt.title('CDF of liver dicease bilirubin')\n            \n        if plot_type == 'swarm':\n            condition = 'sns.swarmplot(x=' +  \"'\" + 'Dataset' + \"'\" + ',y=' + \"'\" + val + \"'\" + ',data=data)'\n            print (condition)\n            exec (condition)\n              \n        if plot_type == 'box':\n            condition = 'sns.boxplot(x=' +  \"'\" + 'Dataset' + \"'\" + ',y=' + \"'\" + val + \"'\" + ',data=data)'\n            print (condition)\n            exec (condition)\n            \n        if plot_type == 'violin':\n            condition = 'sns.violinplot(x=' +  \"'\" + 'Dataset' + \"'\" + ',y=' + \"'\" + val + \"'\" + ',data=data)'\n            print (condition)\n            exec (condition)\n        \n    return 0",
      "execution_count": null,
      "outputs": []
    },
    {
      "metadata": {
        "trusted": true,
        "_uuid": "a65a0ccdee20eaea653aa8dfc9340cbaa142c9a2"
      },
      "cell_type": "code",
      "source": "plot_data(cols, data, 'hist')",
      "execution_count": null,
      "outputs": []
    },
    {
      "metadata": {
        "trusted": true,
        "_uuid": "9b57b7c840b830fb6fc80bef533c0a7d41a3618c",
        "scrolled": true
      },
      "cell_type": "code",
      "source": "plot_data(cols, data, 'swarm')",
      "execution_count": null,
      "outputs": []
    },
    {
      "metadata": {
        "trusted": true,
        "_uuid": "16898cc648eb6b72d739f8037421261567dd2d35"
      },
      "cell_type": "code",
      "source": "plot_data(cols, data, 'box')",
      "execution_count": null,
      "outputs": []
    },
    {
      "metadata": {
        "trusted": true,
        "_uuid": "4d6a1611ac8fedb6513b613d701afb20f4c73de8"
      },
      "cell_type": "code",
      "source": "plt.hist(data[data[\"Dataset\"] == 1].Total_Bilirubin,bins=50,fc=(0,1,0,0.5),label='Bening',normed = True,cumulative = True)\nsorted_data = np.sort(data[data[\"Dataset\"] == 1].Total_Bilirubin)\ny = np.arange(len(sorted_data))/float(len(sorted_data)-1)\nplt.plot(sorted_data,y,color='red')\nplt.title('CDF of liver dicease bilirubin')\nplt.show()",
      "execution_count": null,
      "outputs": []
    },
    {
      "metadata": {
        "trusted": true,
        "_uuid": "110e2877dc2ae1e957206a710f58e341f05f4e51"
      },
      "cell_type": "code",
      "source": "data_healthy = data[data[\"Dataset\"] == 1]\ndata_disease = data[data[\"Dataset\"] == 2]\n\nQ0 = data_healthy.quantile(0.0025)\nQ1 = data_healthy.quantile(0.25)\nQ2 = data_healthy.quantile(0.50)\nQ3 = data_healthy.quantile(0.75)\nQ4 = data_healthy.quantile(0.975)\n#IQR = Q3 - Q1\n\nQ=[Q0, Q1, Q2, Q3, Q4]\n\nQ",
      "execution_count": null,
      "outputs": []
    },
    {
      "metadata": {
        "trusted": true,
        "_uuid": "47da437fa34e6f2d5c1f52457e9f3d8a74150112"
      },
      "cell_type": "code",
      "source": "from sklearn.cluster import KMeans\nfrom sklearn.neighbors import KNeighborsClassifier\nfrom sklearn.model_selection import train_test_split\nfrom sklearn.model_selection import cross_val_score\nfrom sklearn.pipeline import make_pipeline\nfrom sklearn.preprocessing import MinMaxScaler\n\ndata=data.astype(np.float64)\nscaler=MinMaxScaler()\n#data[data.columns] = scaler.fit_transform(data[data.columns]) \n\nks = range(1, 12)\ninertias = []\n\nfor k in ks:\n    # Create a KMeans instance with k clusters: model\n    model = KMeans(n_clusters=k)\n    \n    # Fit model to samples\n    model.fit(data.values)\n    \n    # Append the inertia to the list of inertias\n    inertias.append(model.inertia_)\n    \n# Plot ks vs inertias\nplt.plot(ks, inertias, '-o')\nplt.xlabel('number of clusters, k')\nplt.ylabel('inertia')\nplt.xticks(ks)\nplt.show()\n",
      "execution_count": null,
      "outputs": []
    },
    {
      "metadata": {
        "trusted": true,
        "_uuid": "d6bc0a7e95de0cbcd631e10a938abf600666eb5b"
      },
      "cell_type": "code",
      "source": "# Create feature and target arrays\n#y = data.Dataset\n#data.drop(['Dataset'], axis=1, inplace=True)\nX = data.values\n\nreg=KNeighborsClassifier(n_neighbors=4)\n\n# Create pipeline: pipeline\npipeline = make_pipeline(scaler,reg)\n\n# Split into training and test set\nX_train, X_test, y_train, y_test = train_test_split(X, y, test_size = 0.3, random_state=42, stratify=y)\n\n# Fit the classifier to the training data\nreg.fit(X_train, y_train)\n\n# Print the accuracy\nprint(reg.score(X_test, y_test))",
      "execution_count": null,
      "outputs": []
    },
    {
      "metadata": {
        "trusted": true,
        "_uuid": "9d8c1c99756680cd26b0215a3bb08cbd1cbe8adb"
      },
      "cell_type": "code",
      "source": "cvscores_10 = cross_val_score(reg, X, y, cv = 10)\nprint(np.mean(cvscores_10))",
      "execution_count": null,
      "outputs": []
    },
    {
      "metadata": {
        "trusted": true,
        "_uuid": "f38c5371041f9ddec2d83fd7c2201c3b1c353e19"
      },
      "cell_type": "code",
      "source": "num_cols = data._get_numeric_data().columns\ncor = data[num_cols].corr()\n\nthreshold = 0.7\n\ncorlist = []\n\nfor i in range(0,len(num_cols)):\n    for j in range(i+1,len(num_cols)):\n        if (j != i and cor.iloc[i,j] <= 1 ) or (j != i and cor.iloc[i,j] >= -1):\n            corlist.append([cor.iloc[i,j],i,j]) \n\n#Sort higher correlations first            \nsort_corlist = sorted(corlist,key=lambda x: -abs(x[0]))\n\n#Print correlations and column names\nfor x,i,j in sort_corlist:\n    if num_cols[i] != 'Dataset' and num_cols[j] == 'Dataset':\n        print (num_cols[i], num_cols[j], x)",
      "execution_count": null,
      "outputs": []
    },
    {
      "metadata": {
        "trusted": true,
        "_uuid": "d1f480ef0b73aab37c2ea0d64886efd13cdabac1"
      },
      "cell_type": "code",
      "source": "x_plot=[]\ny_plot=[]\nfor x,i,j in sort_corlist:\n    if num_cols[i] != 'Dataset' and num_cols[j] != 'Dataset':\n        print (num_cols[i],num_cols[j],x)\n        x_plot.append(num_cols[i])\n        y_plot.append(num_cols[j])",
      "execution_count": null,
      "outputs": []
    },
    {
      "metadata": {
        "trusted": true,
        "_uuid": "502c2221af943b47922afce16e45324857fd270c"
      },
      "cell_type": "code",
      "source": "#del x_plot[0]\n#del y_plot[0]\n#lst=x_plot+y_plot\n#lst.append('Dataset')\n#sns.pairplot(data[lst], hue=\"Dataset\")\n\nfig, axes = plt.subplots(nrows=7, ncols=7, figsize=(20, 15))\naxes=axes.flatten()\nfor i in range(len(x_plot)):\n    sns.scatterplot(data=data, x=x_plot[i], y=y_plot[i], ax=axes[i], hue='Dataset')\n\n",
      "execution_count": null,
      "outputs": []
    },
    {
      "metadata": {
        "trusted": true,
        "_uuid": "61c993ffa8920ea9f8bc58923091efb3ead7571f"
      },
      "cell_type": "code",
      "source": "data=data.astype(np.float64)\nfrom sklearn.preprocessing import MinMaxScaler\nscaler=MinMaxScaler()\ndata[data.columns] = scaler.fit_transform(data[data.columns]) \ndata.head() ",
      "execution_count": null,
      "outputs": []
    },
    {
      "metadata": {
        "trusted": true,
        "_uuid": "7c2c1f6824270159b2d72ee6c7e9be0ed5c782a7"
      },
      "cell_type": "code",
      "source": "plt.hist(data['Total_Bilirubin'])\n\n#data['Total_Bilirubin'] = np.log1p(data['Total_Bilirubin'])\nplt.hist(data['Total_Bilirubin'])\n\n",
      "execution_count": null,
      "outputs": []
    }
  ],
  "metadata": {
    "kernelspec": {
      "display_name": "Python 3",
      "language": "python",
      "name": "python3"
    },
    "language_info": {
      "name": "python",
      "version": "3.6.6",
      "mimetype": "text/x-python",
      "codemirror_mode": {
        "name": "ipython",
        "version": 3
      },
      "pygments_lexer": "ipython3",
      "nbconvert_exporter": "python",
      "file_extension": ".py"
    }
  },
  "nbformat": 4,
  "nbformat_minor": 1
}