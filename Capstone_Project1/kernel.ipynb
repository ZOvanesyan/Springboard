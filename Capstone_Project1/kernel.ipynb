{
 "cells": [
  {
   "cell_type": "code",
   "execution_count": 2,
   "metadata": {
    "_cell_guid": "b1076dfc-b9ad-4769-8c92-a6c4dae69d19",
    "_uuid": "8f2839f25d086af736a60e9eeb907d3b93b6e0e5"
   },
   "outputs": [
    {
     "ename": "ImportError",
     "evalue": "No module named 'seaborn'",
     "output_type": "error",
     "traceback": [
      "\u001b[0;31m---------------------------------------------------------------------------\u001b[0m",
      "\u001b[0;31mImportError\u001b[0m                               Traceback (most recent call last)",
      "\u001b[0;32m<ipython-input-2-e3fdf776f24d>\u001b[0m in \u001b[0;36m<module>\u001b[0;34m()\u001b[0m\n\u001b[1;32m      2\u001b[0m \u001b[0;32mimport\u001b[0m \u001b[0mpandas\u001b[0m \u001b[0;32mas\u001b[0m \u001b[0mpd\u001b[0m \u001b[0;31m# data processing, CSV file I/O (e.g. pd.read_csv)\u001b[0m\u001b[0;34m\u001b[0m\u001b[0m\n\u001b[1;32m      3\u001b[0m \u001b[0;32mimport\u001b[0m \u001b[0mmatplotlib\u001b[0m\u001b[0;34m.\u001b[0m\u001b[0mpyplot\u001b[0m \u001b[0;32mas\u001b[0m \u001b[0mplt\u001b[0m\u001b[0;34m\u001b[0m\u001b[0m\n\u001b[0;32m----> 4\u001b[0;31m \u001b[0;32mimport\u001b[0m \u001b[0mseaborn\u001b[0m \u001b[0;32mas\u001b[0m \u001b[0msns\u001b[0m\u001b[0;34m\u001b[0m\u001b[0m\n\u001b[0m\u001b[1;32m      5\u001b[0m \u001b[0;34m\u001b[0m\u001b[0m\n\u001b[1;32m      6\u001b[0m \u001b[0;31m# Input data files are available in the \"../input/\" directory.\u001b[0m\u001b[0;34m\u001b[0m\u001b[0;34m\u001b[0m\u001b[0m\n",
      "\u001b[0;31mImportError\u001b[0m: No module named 'seaborn'"
     ]
    }
   ],
   "source": [
    "import numpy as np # linear algebra\n",
    "import pandas as pd # data processing, CSV file I/O (e.g. pd.read_csv)\n",
    "import matplotlib.pyplot as plt\n",
    "import seaborn as sns\n",
    "\n",
    "# Input data files are available in the \"../input/\" directory.\n",
    "# For example, running this (by clicking run or pressing Shift+Enter) will list the files in the input directory\n",
    "\n",
    "import os\n",
    "print(os.listdir(\"../input\"))\n",
    "\n",
    "# Any results you write to the current directory are saved as output."
   ]
  },
  {
   "cell_type": "code",
   "execution_count": null,
   "metadata": {
    "_uuid": "176b3a518e48a10a85036b3aa91d89170abcc9f9",
    "collapsed": true
   },
   "outputs": [],
   "source": [
    "data=pd.read_csv('../input/indian_liver_patient.csv')"
   ]
  },
  {
   "cell_type": "code",
   "execution_count": null,
   "metadata": {
    "_uuid": "bb127ee168f4dd2ae77a4e5e0f31b495cac57ffc",
    "collapsed": true
   },
   "outputs": [],
   "source": [
    "disease, no_disease = data['Dataset'].value_counts()\n",
    "male, female = data['Gender'].value_counts()\n",
    "\n",
    "info=['Diognised with Liver Disease', 'Not Diognised with Liver Disease', 'Male', 'Female']\n",
    "count=[disease, no_disease, male, female]\n",
    "\n",
    "df_patient=pd.DataFrame({'Patient Info': info, 'Count': count})"
   ]
  },
  {
   "cell_type": "code",
   "execution_count": null,
   "metadata": {
    "_uuid": "69a7aaaf88e5e85df6cab88acfcbaef8a9df6c17",
    "collapsed": true
   },
   "outputs": [],
   "source": [
    "data.info()"
   ]
  },
  {
   "cell_type": "code",
   "execution_count": null,
   "metadata": {
    "_cell_guid": "79c7e3d0-c299-4dcb-8224-4455121ee9b0",
    "_uuid": "d629ff2d2480ee46fbb7e2d37f6b5fab8052498a",
    "collapsed": true
   },
   "outputs": [],
   "source": [
    "data.head().T"
   ]
  },
  {
   "cell_type": "code",
   "execution_count": null,
   "metadata": {
    "_uuid": "6cf69500a7e565c5ee754e4683cc855e80fc7ff1",
    "collapsed": true
   },
   "outputs": [],
   "source": [
    "df_patient"
   ]
  },
  {
   "cell_type": "code",
   "execution_count": null,
   "metadata": {
    "_uuid": "c92af6135656c07f6172d82de6b0a346c6493047",
    "collapsed": true
   },
   "outputs": [],
   "source": [
    "data.describe().T"
   ]
  },
  {
   "cell_type": "code",
   "execution_count": null,
   "metadata": {
    "_uuid": "fb526e5726b9febcd47ea50ab2c7adb67bed7b21",
    "collapsed": true
   },
   "outputs": [],
   "source": [
    "data['Albumin_and_Globulin_Ratio'].fillna(data['Albumin_and_Globulin_Ratio'].median(), inplace=True)"
   ]
  },
  {
   "cell_type": "code",
   "execution_count": null,
   "metadata": {
    "_uuid": "43ad57349411c61010063f4d4b6995c707ea2676",
    "collapsed": true
   },
   "outputs": [],
   "source": [
    "target=data['Dataset']\n",
    "sex=pd.get_dummies(data['Gender'])\n",
    "#data = data.join(sex)\n",
    "data.insert(loc=0, column='Male', value=sex['Male'])\n",
    "data.insert(loc=0, column='Female', value=sex['Female'])\n",
    "data.drop(['Gender'], axis=1, inplace=True)\n",
    "#data.drop(['Dataset'], axis=1, inplace=True)"
   ]
  },
  {
   "cell_type": "code",
   "execution_count": null,
   "metadata": {
    "_uuid": "d0de6f8a67d76f2dee57da90fb3626afafdc73b7",
    "collapsed": true
   },
   "outputs": [],
   "source": [
    "cols = data.columns\n",
    "cols = list(set(cols))\n",
    "del cols[cols.index('Dataset')]\n",
    "#data.hist(column=cols, bins=10, figsize=(20,20), xlabelsize = 7, color='green', log=True)\n",
    "del cols[cols.index('Male')]\n",
    "del cols[cols.index('Female')]"
   ]
  },
  {
   "cell_type": "code",
   "execution_count": null,
   "metadata": {
    "_uuid": "2878819ef50826b497537f1681c6af6824b99cc8",
    "collapsed": true
   },
   "outputs": [],
   "source": [
    "def plot_data(cols, data, plot_type):\n",
    "\n",
    "    fig = plt.figure(figsize = (25,25))\n",
    "    \n",
    "    for idx, val in enumerate(cols):\n",
    "            \n",
    "        plt.subplot(3, 3, idx+1)\n",
    "\n",
    "        if plot_type == 'hist':\n",
    "            disease = 'sns.distplot(data[data[\"Dataset\"] == 1].' + val + ', color=\"blue\", label=\"Liver disease\")'\n",
    "            healthy = 'sns.distplot(data[data[\"Dataset\"] == 2].' + val + ', color=\"orange\", label=\"Healthy liver\")'\n",
    "            exec (disease)\n",
    "            exec (healthy)\n",
    "            plt.legend()\n",
    "            plt.xlabel(val)\n",
    "            plt.ylabel(\"Frequency\")\n",
    "          \n",
    "        if plot_type == 'cdf':\n",
    "            a='plt.hist(data[data[\"Dataset\"] == 1].' + val + ',bins=50,fc=(0,1,0,0.5),label=\"Bening\",normed = True,cumulative = True)'\n",
    "            exec (a)\n",
    "            sorted_data = exec('np.sort(data[data[\"Dataset\"] == 1].' + val + ')')\n",
    "            #sorted_data = exec (sorted_d)\n",
    "            y = np.arange(len(sorted_data))/float(len(sorted_data)-1)\n",
    "            plt.plot(sorted_data,y,color='red')\n",
    "            plt.title('CDF of liver dicease bilirubin')\n",
    "            \n",
    "        if plot_type == 'swarm':\n",
    "            condition = 'sns.swarmplot(x=' +  \"'\" + 'Dataset' + \"'\" + ',y=' + \"'\" + val + \"'\" + ',data=data)'\n",
    "            print (condition)\n",
    "            exec (condition)\n",
    "              \n",
    "        if plot_type == 'box':\n",
    "            condition = 'sns.boxplot(x=' +  \"'\" + 'Dataset' + \"'\" + ',y=' + \"'\" + val + \"'\" + ',data=data)'\n",
    "            print (condition)\n",
    "            exec (condition)\n",
    "            \n",
    "        if plot_type == 'violin':\n",
    "            condition = 'sns.violinplot(x=' +  \"'\" + 'Dataset' + \"'\" + ',y=' + \"'\" + val + \"'\" + ',data=data)'\n",
    "            print (condition)\n",
    "            exec (condition)\n",
    "        \n",
    "    return 0"
   ]
  },
  {
   "cell_type": "code",
   "execution_count": null,
   "metadata": {
    "_uuid": "a65a0ccdee20eaea653aa8dfc9340cbaa142c9a2",
    "collapsed": true
   },
   "outputs": [],
   "source": [
    "plot_data(cols, data, 'hist')"
   ]
  },
  {
   "cell_type": "code",
   "execution_count": null,
   "metadata": {
    "_uuid": "9b57b7c840b830fb6fc80bef533c0a7d41a3618c",
    "collapsed": true,
    "scrolled": true
   },
   "outputs": [],
   "source": [
    "plot_data(cols, data, 'swarm')"
   ]
  },
  {
   "cell_type": "code",
   "execution_count": null,
   "metadata": {
    "_uuid": "16898cc648eb6b72d739f8037421261567dd2d35",
    "collapsed": true
   },
   "outputs": [],
   "source": [
    "plot_data(cols, data, 'box')"
   ]
  },
  {
   "cell_type": "code",
   "execution_count": null,
   "metadata": {
    "_uuid": "4d6a1611ac8fedb6513b613d701afb20f4c73de8",
    "collapsed": true
   },
   "outputs": [],
   "source": [
    "plt.hist(data[data[\"Dataset\"] == 1].Total_Bilirubin,bins=50,fc=(0,1,0,0.5),label='Bening',normed = True,cumulative = True)\n",
    "sorted_data = np.sort(data[data[\"Dataset\"] == 1].Total_Bilirubin)\n",
    "y = np.arange(len(sorted_data))/float(len(sorted_data)-1)\n",
    "plt.plot(sorted_data,y,color='red')\n",
    "plt.title('CDF of liver dicease bilirubin')\n",
    "plt.show()"
   ]
  },
  {
   "cell_type": "code",
   "execution_count": null,
   "metadata": {
    "_uuid": "110e2877dc2ae1e957206a710f58e341f05f4e51",
    "collapsed": true
   },
   "outputs": [],
   "source": [
    "data_healthy = data[data[\"Dataset\"] == 1]\n",
    "data_disease = data[data[\"Dataset\"] == 2]\n",
    "\n",
    "Q0 = data_healthy.quantile(0.0025)\n",
    "Q1 = data_healthy.quantile(0.25)\n",
    "Q2 = data_healthy.quantile(0.50)\n",
    "Q3 = data_healthy.quantile(0.75)\n",
    "Q4 = data_healthy.quantile(0.975)\n",
    "#IQR = Q3 - Q1\n",
    "\n",
    "Q=[Q0, Q1, Q2, Q3, Q4]\n",
    "\n",
    "Q"
   ]
  },
  {
   "cell_type": "code",
   "execution_count": null,
   "metadata": {
    "_uuid": "47da437fa34e6f2d5c1f52457e9f3d8a74150112",
    "collapsed": true
   },
   "outputs": [],
   "source": [
    "from sklearn.cluster import KMeans\n",
    "from sklearn.neighbors import KNeighborsClassifier\n",
    "from sklearn.model_selection import train_test_split\n",
    "from sklearn.model_selection import cross_val_score\n",
    "from sklearn.pipeline import make_pipeline\n",
    "from sklearn.preprocessing import MinMaxScaler\n",
    "\n",
    "data=data.astype(np.float64)\n",
    "scaler=MinMaxScaler()\n",
    "#data[data.columns] = scaler.fit_transform(data[data.columns]) \n",
    "\n",
    "ks = range(1, 12)\n",
    "inertias = []\n",
    "\n",
    "for k in ks:\n",
    "    # Create a KMeans instance with k clusters: model\n",
    "    model = KMeans(n_clusters=k)\n",
    "    \n",
    "    # Fit model to samples\n",
    "    model.fit(data.values)\n",
    "    \n",
    "    # Append the inertia to the list of inertias\n",
    "    inertias.append(model.inertia_)\n",
    "    \n",
    "# Plot ks vs inertias\n",
    "plt.plot(ks, inertias, '-o')\n",
    "plt.xlabel('number of clusters, k')\n",
    "plt.ylabel('inertia')\n",
    "plt.xticks(ks)\n",
    "plt.show()\n"
   ]
  },
  {
   "cell_type": "code",
   "execution_count": null,
   "metadata": {
    "_uuid": "d6bc0a7e95de0cbcd631e10a938abf600666eb5b",
    "collapsed": true
   },
   "outputs": [],
   "source": [
    "# Create feature and target arrays\n",
    "#y = data.Dataset\n",
    "#data.drop(['Dataset'], axis=1, inplace=True)\n",
    "X = data.values\n",
    "\n",
    "reg=KNeighborsClassifier(n_neighbors=4)\n",
    "\n",
    "# Create pipeline: pipeline\n",
    "pipeline = make_pipeline(scaler,reg)\n",
    "\n",
    "# Split into training and test set\n",
    "X_train, X_test, y_train, y_test = train_test_split(X, y, test_size = 0.3, random_state=42, stratify=y)\n",
    "\n",
    "# Fit the classifier to the training data\n",
    "reg.fit(X_train, y_train)\n",
    "\n",
    "# Print the accuracy\n",
    "print(reg.score(X_test, y_test))"
   ]
  },
  {
   "cell_type": "code",
   "execution_count": null,
   "metadata": {
    "_uuid": "9d8c1c99756680cd26b0215a3bb08cbd1cbe8adb",
    "collapsed": true
   },
   "outputs": [],
   "source": [
    "cvscores_10 = cross_val_score(reg, X, y, cv = 10)\n",
    "print(np.mean(cvscores_10))"
   ]
  },
  {
   "cell_type": "code",
   "execution_count": null,
   "metadata": {
    "_uuid": "f38c5371041f9ddec2d83fd7c2201c3b1c353e19",
    "collapsed": true
   },
   "outputs": [],
   "source": [
    "num_cols = data._get_numeric_data().columns\n",
    "cor = data[num_cols].corr()\n",
    "\n",
    "threshold = 0.7\n",
    "\n",
    "corlist = []\n",
    "\n",
    "for i in range(0,len(num_cols)):\n",
    "    for j in range(i+1,len(num_cols)):\n",
    "        if (j != i and cor.iloc[i,j] <= 1 ) or (j != i and cor.iloc[i,j] >= -1):\n",
    "            corlist.append([cor.iloc[i,j],i,j]) \n",
    "\n",
    "#Sort higher correlations first            \n",
    "sort_corlist = sorted(corlist,key=lambda x: -abs(x[0]))\n",
    "\n",
    "#Print correlations and column names\n",
    "for x,i,j in sort_corlist:\n",
    "    if num_cols[i] != 'Dataset' and num_cols[j] == 'Dataset':\n",
    "        print (num_cols[i], num_cols[j], x)"
   ]
  },
  {
   "cell_type": "code",
   "execution_count": null,
   "metadata": {
    "_uuid": "d1f480ef0b73aab37c2ea0d64886efd13cdabac1",
    "collapsed": true
   },
   "outputs": [],
   "source": [
    "x_plot=[]\n",
    "y_plot=[]\n",
    "for x,i,j in sort_corlist:\n",
    "    if num_cols[i] != 'Dataset' and num_cols[j] != 'Dataset':\n",
    "        print (num_cols[i],num_cols[j],x)\n",
    "        x_plot.append(num_cols[i])\n",
    "        y_plot.append(num_cols[j])"
   ]
  },
  {
   "cell_type": "code",
   "execution_count": null,
   "metadata": {
    "_uuid": "502c2221af943b47922afce16e45324857fd270c",
    "collapsed": true
   },
   "outputs": [],
   "source": [
    "#del x_plot[0]\n",
    "#del y_plot[0]\n",
    "#lst=x_plot+y_plot\n",
    "#lst.append('Dataset')\n",
    "#sns.pairplot(data[lst], hue=\"Dataset\")\n",
    "\n",
    "fig, axes = plt.subplots(nrows=7, ncols=7, figsize=(20, 15))\n",
    "axes=axes.flatten()\n",
    "for i in range(len(x_plot)):\n",
    "    sns.scatterplot(data=data, x=x_plot[i], y=y_plot[i], ax=axes[i], hue='Dataset')\n",
    "\n"
   ]
  },
  {
   "cell_type": "code",
   "execution_count": null,
   "metadata": {
    "_uuid": "61c993ffa8920ea9f8bc58923091efb3ead7571f",
    "collapsed": true
   },
   "outputs": [],
   "source": [
    "data=data.astype(np.float64)\n",
    "from sklearn.preprocessing import MinMaxScaler\n",
    "scaler=MinMaxScaler()\n",
    "data[data.columns] = scaler.fit_transform(data[data.columns]) \n",
    "data.head() "
   ]
  },
  {
   "cell_type": "code",
   "execution_count": null,
   "metadata": {
    "_uuid": "7c2c1f6824270159b2d72ee6c7e9be0ed5c782a7",
    "collapsed": true
   },
   "outputs": [],
   "source": [
    "plt.hist(data['Total_Bilirubin'])\n",
    "\n",
    "#data['Total_Bilirubin'] = np.log1p(data['Total_Bilirubin'])\n",
    "plt.hist(data['Total_Bilirubin'])\n",
    "\n"
   ]
  }
 ],
 "metadata": {
  "kernelspec": {
   "display_name": "Python 3",
   "language": "python",
   "name": "python3"
  },
  "language_info": {
   "codemirror_mode": {
    "name": "ipython",
    "version": 3
   },
   "file_extension": ".py",
   "mimetype": "text/x-python",
   "name": "python",
   "nbconvert_exporter": "python",
   "pygments_lexer": "ipython3",
   "version": "3.5.2"
  }
 },
 "nbformat": 4,
 "nbformat_minor": 1
}
