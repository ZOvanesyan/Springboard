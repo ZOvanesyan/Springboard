{
 "cells": [
  {
   "cell_type": "markdown",
   "metadata": {},
   "source": [
    "This exercise will require you to pull some data from the Qunadl API. Qaundl is currently the most widely used aggregator of financial market data."
   ]
  },
  {
   "cell_type": "markdown",
   "metadata": {},
   "source": [
    "As a first step, you will need to register a free account on the http://www.quandl.com website."
   ]
  },
  {
   "cell_type": "markdown",
   "metadata": {},
   "source": [
    "After you register, you will be provided with a unique API key, that you should store:"
   ]
  },
  {
   "cell_type": "code",
   "execution_count": 1,
   "metadata": {},
   "outputs": [],
   "source": [
    "# Store the API key as a string - according to PEP8, constants are always named in all upper case\n",
    "API_KEY = ''"
   ]
  },
  {
   "cell_type": "markdown",
   "metadata": {},
   "source": [
    "Qaundl has a large number of data sources, but, unfortunately, most of them require a Premium subscription. Still, there are also a good number of free datasets."
   ]
  },
  {
   "cell_type": "markdown",
   "metadata": {},
   "source": [
    "For this mini project, we will focus on equities data from the Frankfurt Stock Exhange (FSE), which is available for free. We'll try and analyze the stock prices of a company called Carl Zeiss Meditec, which manufactures tools for eye examinations, as well as medical lasers for laser eye surgery: https://www.zeiss.com/meditec/int/home.html. The company is listed under the stock ticker AFX_X."
   ]
  },
  {
   "cell_type": "markdown",
   "metadata": {},
   "source": [
    "You can find the detailed Quandl API instructions here: https://docs.quandl.com/docs/time-series"
   ]
  },
  {
   "cell_type": "markdown",
   "metadata": {},
   "source": [
    "While there is a dedicated Python package for connecting to the Quandl API, we would prefer that you use the *requests* package, which can be easily downloaded using *pip* or *conda*. You can find the documentation for the package here: http://docs.python-requests.org/en/master/ "
   ]
  },
  {
   "cell_type": "markdown",
   "metadata": {},
   "source": [
    "Finally, apart from the *requests* package, you are encouraged to not use any third party Python packages, such as *pandas*, and instead focus on what's available in the Python Standard Library (the *collections* module might come in handy: https://pymotw.com/3/collections/).\n",
    "Also, since you won't have access to DataFrames, you are encouraged to us Python's native data structures - preferably dictionaries, though some questions can also be answered using lists.\n",
    "You can read more on these data structures here: https://docs.python.org/3/tutorial/datastructures.html"
   ]
  },
  {
   "cell_type": "markdown",
   "metadata": {},
   "source": [
    "Keep in mind that the JSON responses you will be getting from the API map almost one-to-one to Python's dictionaries. Unfortunately, they can be very nested, so make sure you read up on indexing dictionaries in the documentation provided above."
   ]
  },
  {
   "cell_type": "code",
   "execution_count": 2,
   "metadata": {},
   "outputs": [],
   "source": [
    "# First, import the relevant modules\n",
    "import json\n",
    "import requests\n",
    "import collections\n",
    "import pandas as pd\n",
    "from collections import defaultdict\n",
    "from datetime import datetime\n",
    "import matplotlib.dates as mdates\n",
    "import matplotlib.pyplot as plt"
   ]
  },
  {
   "cell_type": "code",
   "execution_count": 3,
   "metadata": {},
   "outputs": [],
   "source": [
    "# Now, call the Quandl API and pull out a small sample of the data (only one day) to get a glimpse\n",
    "# into the JSON structure that will be returned\n",
    "test_data=requests.get(\"https://www.quandl.com/api/v3/datasets/FSE/AFX_X?start_date=2018-12-5&end_date=2018-12-5&api_key=\" + API_KEY)"
   ]
  },
  {
   "cell_type": "code",
   "execution_count": 4,
   "metadata": {},
   "outputs": [
    {
     "data": {
      "text/plain": [
       "dict"
      ]
     },
     "execution_count": 4,
     "metadata": {},
     "output_type": "execute_result"
    }
   ],
   "source": [
    "# Inspect the JSON structure of the object you created, and take note of how nested it is,\n",
    "# as well as the overall structure\n",
    "\n",
    "# Check data type\n",
    "type(test_data.json())"
   ]
  },
  {
   "cell_type": "code",
   "execution_count": 5,
   "metadata": {},
   "outputs": [
    {
     "data": {
      "text/plain": [
       "[u'dataset']"
      ]
     },
     "execution_count": 5,
     "metadata": {},
     "output_type": "execute_result"
    }
   ],
   "source": [
    "# Check dictionary keys\n",
    "test_data.json().keys()"
   ]
  },
  {
   "cell_type": "code",
   "execution_count": 6,
   "metadata": {},
   "outputs": [
    {
     "data": {
      "text/plain": [
       "u'{\"dataset\":{\"id\":10095370,\"dataset_code\":\"AFX_X\",\"database_code\":\"FSE\",\"name\":\"Carl Zeiss Meditec (AFX_X)\",\"description\":\"Stock Prices for Carl Zeiss Meditec (AFX) from the Frankfurt Stock Exchange.\\\\u003cbr\\\\u003e\\\\u003cbr\\\\u003eTrading System: Xetra\\\\u003cbr\\\\u003e\\\\u003cbr\\\\u003eISIN: DE0005313704\",\"refreshed_at\":\"2019-01-11T22:32:45.336Z\",\"newest_available_date\":\"2019-01-11\",\"oldest_available_date\":\"2000-06-07\",\"column_names\":[\"Date\",\"Open\",\"High\",\"Low\",\"Close\",\"Change\",\"Traded Volume\",\"Turnover\",\"Last Price of the Day\",\"Daily Traded Units\",\"Daily Turnover\"],\"frequency\":\"daily\",\"type\":\"Time Series\",\"premium\":false,\"limit\":null,\"transform\":null,\"column_index\":null,\"start_date\":\"2018-12-05\",\"end_date\":\"2018-12-05\",\"data\":[[\"2018-12-05\",null,68.5,66.45,66.45,null,null,null,null,null,null]],\"collapse\":null,\"order\":null,\"database_id\":6129}}'"
      ]
     },
     "execution_count": 6,
     "metadata": {},
     "output_type": "execute_result"
    }
   ],
   "source": [
    "# Check the text content of dictionary\n",
    "test_data.text"
   ]
  },
  {
   "cell_type": "code",
   "execution_count": 7,
   "metadata": {},
   "outputs": [
    {
     "data": {
      "text/plain": [
       "dict"
      ]
     },
     "execution_count": 7,
     "metadata": {},
     "output_type": "execute_result"
    }
   ],
   "source": [
    "# Check the type of 'dataset' from test_data\n",
    "type(test_data.json()['dataset'])"
   ]
  },
  {
   "cell_type": "code",
   "execution_count": 8,
   "metadata": {},
   "outputs": [
    {
     "data": {
      "text/plain": [
       "[u'dataset_code',\n",
       " u'column_names',\n",
       " u'newest_available_date',\n",
       " u'description',\n",
       " u'end_date',\n",
       " u'data',\n",
       " u'start_date',\n",
       " u'limit',\n",
       " u'transform',\n",
       " u'order',\n",
       " u'refreshed_at',\n",
       " u'frequency',\n",
       " u'database_code',\n",
       " u'oldest_available_date',\n",
       " u'collapse',\n",
       " u'premium',\n",
       " u'database_id',\n",
       " u'column_index',\n",
       " u'type',\n",
       " u'id',\n",
       " u'name']"
      ]
     },
     "execution_count": 8,
     "metadata": {},
     "output_type": "execute_result"
    }
   ],
   "source": [
    "# Check the 'dataset' keys\n",
    "test_data.json()['dataset'].keys()"
   ]
  },
  {
   "cell_type": "code",
   "execution_count": 9,
   "metadata": {},
   "outputs": [
    {
     "data": {
      "text/plain": [
       "[u'Date',\n",
       " u'Open',\n",
       " u'High',\n",
       " u'Low',\n",
       " u'Close',\n",
       " u'Change',\n",
       " u'Traded Volume',\n",
       " u'Turnover',\n",
       " u'Last Price of the Day',\n",
       " u'Daily Traded Units',\n",
       " u'Daily Turnover']"
      ]
     },
     "execution_count": 9,
     "metadata": {},
     "output_type": "execute_result"
    }
   ],
   "source": [
    "# Check column names from 'dataset'\n",
    "test_data.json()['dataset']['column_names']"
   ]
  },
  {
   "cell_type": "code",
   "execution_count": 10,
   "metadata": {},
   "outputs": [
    {
     "data": {
      "text/plain": [
       "[[u'2018-12-05', None, 68.5, 66.45, 66.45, None, None, None, None, None, None]]"
      ]
     },
     "execution_count": 10,
     "metadata": {},
     "output_type": "execute_result"
    }
   ],
   "source": [
    "# Check the 'data' values from 'dataset'\n",
    "test_data.json()['dataset']['data']"
   ]
  },
  {
   "cell_type": "markdown",
   "metadata": {},
   "source": [
    "These are your tasks for this mini project:\n",
    "\n",
    "1. Collect data from the Franfurt Stock Exchange, for the ticker AFX_X, for the whole year 2017 (keep in mind that the date format is YYYY-MM-DD).\n",
    "2. Convert the returned JSON object into a Python dictionary.\n",
    "3. Calculate what the highest and lowest opening prices were for the stock in this period.\n",
    "4. What was the largest change in any one day (based on High and Low price)?\n",
    "5. What was the largest change between any two days (based on Closing Price)?\n",
    "6. What was the average daily trading volume during this year?\n",
    "7. (Optional) What was the median trading volume during this year. (Note: you may need to implement your own function for calculating the median.)"
   ]
  },
  {
   "cell_type": "markdown",
   "metadata": {},
   "source": [
    "## 1. Collect data from the Franfurt Stock Exchange, for the ticker AFX_X, for the whole year 2017 (keep in mind that the date format is YYYY-MM-DD)."
   ]
  },
  {
   "cell_type": "code",
   "execution_count": 11,
   "metadata": {},
   "outputs": [],
   "source": [
    "data=requests.get(\"https://www.quandl.com/api/v3/datasets/FSE/AFX_X?start_date=2017-01-01&end_date=2017-12-31&api_key=\" + API_KEY)"
   ]
  },
  {
   "cell_type": "markdown",
   "metadata": {},
   "source": [
    "## 2. Convert the returned JSON object into a Python dictionary."
   ]
  },
  {
   "cell_type": "code",
   "execution_count": 12,
   "metadata": {
    "scrolled": true
   },
   "outputs": [],
   "source": [
    "# Load json sting into data_dict dictionary\n",
    "data_dict = json.loads(data.text)"
   ]
  },
  {
   "cell_type": "code",
   "execution_count": 13,
   "metadata": {},
   "outputs": [],
   "source": [
    "# Create two lists from the nested data_dict dictionary\n",
    "values=data_dict['dataset']['data']\n",
    "column_names=data_dict['dataset']['column_names']\n",
    "\n",
    "# Create new collection stock_info that maps column names with corresponding values\n",
    "stock_info = defaultdict()\n",
    "stock_info = [collections.OrderedDict(zip(column_names,values[i])) for i in range(len(values))]"
   ]
  },
  {
   "cell_type": "markdown",
   "metadata": {},
   "source": [
    "## 3. Calculate what the highest and lowest opening prices were for the stock in this period."
   ]
  },
  {
   "cell_type": "code",
   "execution_count": 14,
   "metadata": {},
   "outputs": [],
   "source": [
    "open_price=[stock_info[i]['Open'] for i in range(len(stock_info)) if stock_info[i]['Open'] != None]\n",
    "date=[stock_info[i]['Date'] for i in range(len(stock_info)) if stock_info[i]['Open'] != None]\n",
    "\n",
    "min_open=min(open_price)\n",
    "max_open=max(open_price)\n",
    "\n",
    "date_min_index=open_price.index(min_open)\n",
    "date_max_index=open_price.index(max_open)"
   ]
  },
  {
   "cell_type": "code",
   "execution_count": 15,
   "metadata": {},
   "outputs": [
    {
     "data": {
      "image/png": "[encoded data removed]",
      "text/plain": [
       "<Figure size 1200x400 with 1 Axes>"
      ]
     },
     "metadata": {
      "needs_background": "light"
     },
     "output_type": "display_data"
    }
   ],
   "source": [
    "#Plot data\n",
    "\n",
    "plt.rcParams['font.size'] = 50\n",
    "fig=plt.figure(figsize=(60, 20), dpi= 20)\n",
    "\n",
    "df=pd.DataFrame({'open':open_price, 'date':date})\n",
    "\n",
    "df.date = pd.to_datetime(df['date'], format='%Y-%m-%d')\n",
    "df.set_index(['date'],inplace=True)\n",
    "\n",
    "datetime_object_min = datetime.strptime(date[date_min_index], '%Y-%m-%d')\n",
    "price_min = min_open\n",
    "\n",
    "datetime_object_max = datetime.strptime(date[date_max_index], '%Y-%m-%d')\n",
    "price_max = max_open\n",
    "\n",
    "x = [datetime_object_min, datetime_object_max] \n",
    "y = [price_min, price_max]\n",
    "\n",
    "plt.plot(df.index, df.open)\n",
    "\n",
    "plt.annotate('Min', (mdates.date2num(x[0]), y[0]), xytext=(20, 20), \n",
    "            textcoords='offset points', arrowprops=dict(arrowstyle='-|>'))\n",
    "\n",
    "plt.annotate('Max', (mdates.date2num(x[1]), y[1]), xytext=(20, 20), \n",
    "            textcoords='offset points', arrowprops=dict(arrowstyle='-|>'))\n",
    "\n",
    "\n",
    "plt.ylabel('price')\n",
    "plt.xlabel('date')\n",
    "plt.title('Opening price of AFX_X')\n",
    "plt.show()"
   ]
  },
  {
   "cell_type": "code",
   "execution_count": 16,
   "metadata": {},
   "outputs": [
    {
     "name": "stdout",
     "output_type": "stream",
     "text": [
      "Lowest opening price was : 34.0 on 2017-01-24\n",
      "Highest opening price was : 53.11 on 2017-12-14\n"
     ]
    }
   ],
   "source": [
    "print('Lowest opening price was : ' + str(min_open) + ' on ' + date[date_min_index])\n",
    "print('Highest opening price was : ' + str(max_open) + ' on ' + date[date_max_index])"
   ]
  },
  {
   "cell_type": "markdown",
   "metadata": {},
   "source": [
    "## 4. What was the largest change in any one day (based on High and Low price)?"
   ]
  },
  {
   "cell_type": "code",
   "execution_count": 17,
   "metadata": {},
   "outputs": [],
   "source": [
    "high_low_diff=[stock_info[i]['High'] - stock_info[i]['Low'] for i in range(len(stock_info))]\n",
    "date=[stock_info[i]['Date'] for i in range(len(stock_info)) if (stock_info[i]['High'] - stock_info[i]['Low'] != None)]\n",
    "\n",
    "max_diff=max(high_low_diff)\n",
    "data_max_diff_index=high_low_diff.index(max_diff)"
   ]
  },
  {
   "cell_type": "code",
   "execution_count": 18,
   "metadata": {},
   "outputs": [
    {
     "data": {
      "image/png": "[encoded data removed]",
      "text/plain": [
       "<Figure size 1200x400 with 1 Axes>"
      ]
     },
     "metadata": {
      "needs_background": "light"
     },
     "output_type": "display_data"
    }
   ],
   "source": [
    "# Plot Data\n",
    "\n",
    "fig=plt.figure(figsize=(60, 20), dpi= 20)\n",
    "\n",
    "df=pd.DataFrame({'high_low_diff':high_low_diff, 'date':date})\n",
    "\n",
    "df.date = pd.to_datetime(df['date'], format='%Y-%m-%d')\n",
    "df.set_index(['date'],inplace=True)\n",
    "\n",
    "datetime_object_max_diff = datetime.strptime(date[data_max_diff_index], '%Y-%m-%d')\n",
    "max_change = max_diff\n",
    "\n",
    "x = [datetime_object_max_diff] \n",
    "y = [max_change]\n",
    "\n",
    "plt.plot(df.index, df.high_low_diff, color='green')\n",
    "\n",
    "plt.annotate('Largest change in one day based on high - low', (mdates.date2num(x[0]), y[0]), xytext=(20, 20), \n",
    "            textcoords='offset points', arrowprops=dict(arrowstyle='-|>'))\n",
    "\n",
    "plt.ylabel('low - high price difference')\n",
    "plt.xlabel('date')\n",
    "#plt.title('High - Low price difference of AFX_X')\n",
    "plt.show()"
   ]
  },
  {
   "cell_type": "code",
   "execution_count": 19,
   "metadata": {},
   "outputs": [
    {
     "name": "stdout",
     "output_type": "stream",
     "text": [
      "The largest change in one day was : 2.81 on 2017-05-11\n"
     ]
    }
   ],
   "source": [
    "print ('The largest change in one day was : ' + str(max_diff) + ' on ' + date[data_max_diff_index])"
   ]
  },
  {
   "cell_type": "markdown",
   "metadata": {},
   "source": [
    "## 5. What was the largest change between any two days (based on Closing Price)?"
   ]
  },
  {
   "cell_type": "code",
   "execution_count": 20,
   "metadata": {},
   "outputs": [],
   "source": [
    "high_close_diff=[stock_info[i+1]['Close'] - stock_info[i]['Close'] for i in range(len(stock_info)-1)]\n",
    "max_close_diff=max(high_close_diff)\n",
    "data_max_close_diff_index=high_close_diff.index(max_close_diff)"
   ]
  },
  {
   "cell_type": "code",
   "execution_count": 21,
   "metadata": {},
   "outputs": [
    {
     "name": "stdout",
     "output_type": "stream",
     "text": [
      "The largest change between any two days was : 2.56 between 2017-08-08 and 2017-08-09\n"
     ]
    }
   ],
   "source": [
    "print ('The largest change between any two days was : ' + str(max_close_diff) + ' between ' + date[data_max_close_diff_index+1] + ' and ' + date[data_max_close_diff_index])"
   ]
  },
  {
   "cell_type": "markdown",
   "metadata": {},
   "source": [
    "## 6. What was the average daily trading volume during this year?"
   ]
  },
  {
   "cell_type": "code",
   "execution_count": 22,
   "metadata": {},
   "outputs": [],
   "source": [
    "trading_volume=[stock_info[i]['Traded Volume'] for i in range(len(stock_info)) if stock_info[i]['Traded Volume'] != None]\n",
    "average_trading_volume=sum(trading_volume)/len(trading_volume)"
   ]
  },
  {
   "cell_type": "code",
   "execution_count": 23,
   "metadata": {},
   "outputs": [
    {
     "name": "stdout",
     "output_type": "stream",
     "text": [
      "The average daily traiding volume during 2017 year was : 89124.3372549\n"
     ]
    }
   ],
   "source": [
    "print ('The average daily traiding volume during 2017 year was : ' + str(average_trading_volume)) "
   ]
  },
  {
   "cell_type": "markdown",
   "metadata": {},
   "source": [
    "## 7. (Optional) What was the median trading volume during this year. (Note: you may need to implement your own function for calculating the median.)"
   ]
  },
  {
   "cell_type": "code",
   "execution_count": 24,
   "metadata": {},
   "outputs": [],
   "source": [
    "def median(var):\n",
    "    \n",
    "    n = len(var)\n",
    "    \n",
    "    if n % 2 == 0:\n",
    "        return sum(sorted(var)[n//2-1:n//2+1])/2.0\n",
    "    else:\n",
    "        return sorted(var)[n // 2]"
   ]
  },
  {
   "cell_type": "code",
   "execution_count": 25,
   "metadata": {
    "scrolled": true
   },
   "outputs": [
    {
     "name": "stdout",
     "output_type": "stream",
     "text": [
      "The median traiding volume during 2017 year was : 76286.0\n"
     ]
    }
   ],
   "source": [
    "print ('The median traiding volume during 2017 year was : ' + str(median(trading_volume))) "
   ]
  }
 ],
 "metadata": {
  "kernelspec": {
   "display_name": "Python 2",
   "language": "python",
   "name": "python2"
  },
  "language_info": {
   "codemirror_mode": {
    "name": "ipython",
    "version": 2
   },
   "file_extension": ".py",
   "mimetype": "text/x-python",
   "name": "python",
   "nbconvert_exporter": "python",
   "pygments_lexer": "ipython2",
   "version": "2.7.15"
  }
 },
 "nbformat": 4,
 "nbformat_minor": 2
}
